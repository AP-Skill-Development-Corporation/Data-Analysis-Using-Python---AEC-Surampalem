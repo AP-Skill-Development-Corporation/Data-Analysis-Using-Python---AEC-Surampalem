{
 "cells": [
  {
   "cell_type": "code",
   "execution_count": null,
   "metadata": {
    "scrolled": true
   },
   "outputs": [],
   "source": [
    "print(\"hello good morning!!!\")\n",
    "print('9876543s321')"
   ]
  },
  {
   "cell_type": "code",
   "execution_count": null,
   "metadata": {},
   "outputs": [],
   "source": [
    "f = 23.5\n",
    "type(f)"
   ]
  },
  {
   "cell_type": "code",
   "execution_count": null,
   "metadata": {},
   "outputs": [],
   "source": [
    "int(f)"
   ]
  },
  {
   "cell_type": "code",
   "execution_count": null,
   "metadata": {},
   "outputs": [],
   "source": [
    "s = 'mango'\n",
    "type(s)"
   ]
  },
  {
   "cell_type": "code",
   "execution_count": null,
   "metadata": {},
   "outputs": [],
   "source": [
    "float(99)"
   ]
  },
  {
   "cell_type": "code",
   "execution_count": null,
   "metadata": {},
   "outputs": [],
   "source": [
    "a='2345'\n",
    "type(a)\n",
    "print(int(a))"
   ]
  },
  {
   "cell_type": "code",
   "execution_count": null,
   "metadata": {},
   "outputs": [],
   "source": [
    "- Operators:\n",
    "    - Arithematic(+,-,*,/,//,%,**)\n",
    "    - Assignment(+=,-=,*=,/=,//=,%=)\n",
    "    - Logical(and,or,not)\n",
    "    - Comparison(==,>=,<=,>,<,!=)\n",
    "    - Bitwise(&,|,^,<<,>>)\n",
    "    - membership(in,not in)\n",
    "    - identity(is,is not)"
   ]
  },
  {
   "cell_type": "code",
   "execution_count": null,
   "metadata": {},
   "outputs": [],
   "source": [
    "4.5/2"
   ]
  },
  {
   "cell_type": "code",
   "execution_count": null,
   "metadata": {},
   "outputs": [],
   "source": [
    "4.5//2"
   ]
  },
  {
   "cell_type": "code",
   "execution_count": null,
   "metadata": {},
   "outputs": [],
   "source": [
    "5/2"
   ]
  },
  {
   "cell_type": "code",
   "execution_count": null,
   "metadata": {},
   "outputs": [],
   "source": [
    "5//2"
   ]
  },
  {
   "cell_type": "code",
   "execution_count": null,
   "metadata": {},
   "outputs": [],
   "source": [
    "7%10\n",
    "10%7"
   ]
  },
  {
   "cell_type": "code",
   "execution_count": null,
   "metadata": {
    "scrolled": true
   },
   "outputs": [],
   "source": [
    "a=4 #100\n",
    "bin(20)\n",
    "hex(20)\n",
    "oct(34)"
   ]
  },
  {
   "cell_type": "code",
   "execution_count": null,
   "metadata": {},
   "outputs": [],
   "source": [
    "int('10100100100',2)"
   ]
  },
  {
   "cell_type": "code",
   "execution_count": null,
   "metadata": {},
   "outputs": [],
   "source": [
    "#100-->4\n",
    "int('1000100010110',2)"
   ]
  },
  {
   "cell_type": "code",
   "execution_count": null,
   "metadata": {},
   "outputs": [],
   "source": [
    "4&7    #0100\n",
    "4|7    #0111\n",
    "    #  -------\n",
    "    #   0100 --->4(and)\n",
    "    #   0111 --->7(or)\n",
    "4^7 #   0011 --->3(x-or)"
   ]
  },
  {
   "cell_type": "code",
   "execution_count": null,
   "metadata": {},
   "outputs": [],
   "source": [
    "4<<7 "
   ]
  },
  {
   "cell_type": "code",
   "execution_count": null,
   "metadata": {},
   "outputs": [],
   "source": [
    "4>>2   #0100"
   ]
  },
  {
   "cell_type": "code",
   "execution_count": null,
   "metadata": {},
   "outputs": [],
   "source": [
    "'py' in 'python' "
   ]
  },
  {
   "cell_type": "code",
   "execution_count": null,
   "metadata": {},
   "outputs": [],
   "source": [
    "'A' not in 'Aditya'"
   ]
  },
  {
   "cell_type": "code",
   "execution_count": null,
   "metadata": {},
   "outputs": [],
   "source": [
    "a=10\n",
    "b=a\n",
    "c=12\n",
    "print(a is b)\n",
    "print(a is not c)"
   ]
  },
  {
   "cell_type": "markdown",
   "metadata": {},
   "source": [
    "- input() -->it helps input from users in runtime.it default takes string input\n",
    "- int(input('promt'))\n",
    "- float(input('promt'))"
   ]
  },
  {
   "cell_type": "markdown",
   "metadata": {},
   "source": [
    "#### Conditional Statements\n",
    "- if\n",
    "    - its applicable to check single condition\n",
    "    ```\n",
    "     if condition:\n",
    "         statements\n",
    "    ```\n",
    "- if else  \n",
    "    - to check two conditions\n",
    "    ```\n",
    "    if condition:\n",
    "        statements\n",
    "    else:\n",
    "        statements\n",
    "    ```\n",
    "- else if\n",
    "    - To check two or moreconditions\n",
    "    ```\n",
    "      if condition:\n",
    "        statements\n",
    "      elif condition:\n",
    "          statements\n",
    "       .\n",
    "       .\n",
    "      else:\n",
    "        statements\n",
    "    ```\n",
    "- Nested if\n",
    "    - if inside if block\n",
    "    ```\n",
    "    if condition:\n",
    "        if condition:\n",
    "            statements\n",
    "        else:\n",
    "            statements\n",
    "    else:\n",
    "        statements\n",
    "    ```"
   ]
  },
  {
   "cell_type": "code",
   "execution_count": null,
   "metadata": {},
   "outputs": [],
   "source": [
    "#5  15  --> equally distributed\n",
    "#5  16  --> 5-(16%5)\n",
    "persons=int(input('Enter persons:'))\n",
    "gifts=int(input('Enter Gifts:'))\n",
    "if gifts%persons==0:\n",
    "    print('Equally Distributed')\n",
    "else:\n",
    "    print('Needed',persons-(gifts%persons))"
   ]
  },
  {
   "cell_type": "markdown",
   "metadata": {},
   "source": [
    "```\n",
    "i/p: Enter username :Aditya@123\n",
    "     Enter Password:Given num is divible by 11\n",
    "o/p: Login Successfully\n",
    "\n",
    "i/p: Enter username :Aditya@123\n",
    "     Enter Password :13\n",
    "o/p: Wrong Password\n",
    "\n",
    "i/p: Enter username :Aditya\n",
    "o/p: Invalid Username\n",
    "   \n",
    "```"
   ]
  },
  {
   "cell_type": "markdown",
   "metadata": {},
   "source": [
    "## Loops or Iterations\n",
    "- for\n",
    "    - Repeat the sequence of instructions until the condition is false\n",
    "    - Range known\n",
    "```\n",
    "for iterating_variable in sequence:\n",
    "     statements\n",
    "     \n",
    "for iter_var in range(start,end,step):\n",
    "      statements\n",
    "```\n",
    "- while\n",
    "    - Range unknown"
   ]
  },
  {
   "cell_type": "code",
   "execution_count": 2,
   "metadata": {},
   "outputs": [
    {
     "name": "stdout",
     "output_type": "stream",
     "text": [
      "1 2 3 4 5 6 7 8 9 "
     ]
    }
   ],
   "source": [
    "for i in range(1,10):\n",
    "    print(i,end=\" \")"
   ]
  },
  {
   "cell_type": "code",
   "execution_count": 6,
   "metadata": {},
   "outputs": [
    {
     "name": "stdout",
     "output_type": "stream",
     "text": [
      "10 7 4 "
     ]
    }
   ],
   "source": [
    "for i in range(10,1,-3):\n",
    "    print(i,end=\" \")"
   ]
  },
  {
   "cell_type": "markdown",
   "metadata": {},
   "source": [
    "- WAP to print factors count and sum of factors for a given number.\n",
    "- WAP to check whether given number is prime or perfect."
   ]
  },
  {
   "cell_type": "markdown",
   "metadata": {},
   "source": [
    "```\n",
    "i/p: 987634\n",
    "o/p: 436789\n",
    "     6\n",
    "```\n",
    "\n",
    "```\n",
    "i/p: 987634\n",
    "o/p: 24 18 36 42 48 54\n",
    "```"
   ]
  },
  {
   "cell_type": "code",
   "execution_count": 2,
   "metadata": {},
   "outputs": [
    {
     "name": "stdout",
     "output_type": "stream",
     "text": [
      "Enter a number: 16\n",
      "5\n",
      "31\n"
     ]
    }
   ],
   "source": [
    "# Task-1\n",
    "n = int(input(\"Enter a number: \"))\n",
    "fact_count = 0\n",
    "fact_sum = 0\n",
    "for i in range(1,n+1):\n",
    "    if n%i==0:\n",
    "        fact_count += 1\n",
    "        fact_sum += i\n",
    "print(fact_count)\n",
    "print(fact_sum)"
   ]
  },
  {
   "cell_type": "code",
   "execution_count": 6,
   "metadata": {
    "scrolled": true
   },
   "outputs": [
    {
     "name": "stdout",
     "output_type": "stream",
     "text": [
      "Enter a number: 28\n",
      "perfect\n"
     ]
    }
   ],
   "source": [
    "# Task-2\n",
    "n = int(input(\"Enter a number: \"))\n",
    "fact_count = 0\n",
    "fact_sum = 0\n",
    "for i in range(1,n):\n",
    "    if n%i==0:\n",
    "        fact_count += 1\n",
    "        fact_sum += i\n",
    "if fact_count==1:\n",
    "    print(\"Prime\")\n",
    "if fact_sum==n:\n",
    "    print(\"perfect\")"
   ]
  },
  {
   "cell_type": "code",
   "execution_count": 11,
   "metadata": {},
   "outputs": [
    {
     "name": "stdout",
     "output_type": "stream",
     "text": [
      "enter number121\n",
      "reverse number: 121\n",
      "Digits count: 3\n",
      "palindrome\n"
     ]
    }
   ],
   "source": [
    "n=int(input('enter number'))\n",
    "t=n\n",
    "rev=0\n",
    "digit_count=0\n",
    "while n>0:\n",
    "    r=n%10\n",
    "    digit_count+=1\n",
    "    rev=rev*10+r\n",
    "    n=n//10\n",
    "print('reverse number:',rev)\n",
    "print('Digits count:',digit_count)\n",
    "if rev==t:\n",
    "    print('palindrome')\n",
    "else:\n",
    "    print('Not a Palindrome')"
   ]
  },
  {
   "cell_type": "code",
   "execution_count": 7,
   "metadata": {},
   "outputs": [
    {
     "name": "stdout",
     "output_type": "stream",
     "text": [
      "enter number23456\n",
      "30 25 20 15 10 "
     ]
    }
   ],
   "source": [
    "n=int(input('enter number'))\n",
    "temp=n\n",
    "d_c=0\n",
    "while n>0:\n",
    "    r=n%10\n",
    "    d_c+=1\n",
    "    n=n//10\n",
    "while temp>0:\n",
    "    r=temp%10\n",
    "    print(r*d_c,end=\" \")\n",
    "    temp=temp//10   "
   ]
  },
  {
   "cell_type": "code",
   "execution_count": null,
   "metadata": {},
   "outputs": [],
   "source": []
  }
 ],
 "metadata": {
  "kernelspec": {
   "display_name": "Python 3",
   "language": "python",
   "name": "python3"
  },
  "language_info": {
   "codemirror_mode": {
    "name": "ipython",
    "version": 3
   },
   "file_extension": ".py",
   "mimetype": "text/x-python",
   "name": "python",
   "nbconvert_exporter": "python",
   "pygments_lexer": "ipython3",
   "version": "3.7.3"
  }
 },
 "nbformat": 4,
 "nbformat_minor": 2
}
